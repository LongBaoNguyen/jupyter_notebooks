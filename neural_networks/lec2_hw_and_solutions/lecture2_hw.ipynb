{
 "cells": [
  {
   "cell_type": "markdown",
   "metadata": {},
   "source": [
    "## Lecture 2: Functions and Their Computational Graphs\n",
    "\n",
    "### by Long Nguyen\n",
    "\n",
    "This homework notebook is supplemental to Lecture 2 of the series \"Image Recognition to Neural Networks\".\n",
    "\n",
    "### For your convenience, the code from the video lecture has been reproduced here as a reference. The homework problems are at the end of this notebook. "
   ]
  },
  {
   "cell_type": "markdown",
   "metadata": {},
   "source": [
    "In this tutorial, we will cover:\n",
    "\n",
    "* Numpy: Working with Arrays, Matrix operations, Broadcasting. "
   ]
  },
  {
   "cell_type": "markdown",
   "metadata": {},
   "source": [
    "## Numpy"
   ]
  },
  {
   "cell_type": "markdown",
   "metadata": {},
   "source": [
    "Numpy is the core library for scientific computing in Python. It provides a high-performance multidimensional array object, and tools for working with these arrays. "
   ]
  },
  {
   "cell_type": "markdown",
   "metadata": {},
   "source": [
    "To use Numpy, we first need to import the `numpy` package:"
   ]
  },
  {
   "cell_type": "code",
   "execution_count": 12,
   "metadata": {},
   "outputs": [],
   "source": [
    "import numpy as np"
   ]
  },
  {
   "cell_type": "markdown",
   "metadata": {},
   "source": [
    "### Arrays"
   ]
  },
  {
   "cell_type": "markdown",
   "metadata": {},
   "source": [
    "A numpy array is a grid of values, all of the same type, and is indexed by a tuple of nonnegative integers. The number of dimensions is the rank of the array; the shape of an array is a tuple of integers giving the size of the array along each dimension."
   ]
  },
  {
   "cell_type": "markdown",
   "metadata": {},
   "source": [
    "We can initialize numpy arrays from nested Python lists. We can create a 1D(rank 1) array as follows. "
   ]
  },
  {
   "cell_type": "code",
   "execution_count": 13,
   "metadata": {},
   "outputs": [
    {
     "name": "stdout",
     "output_type": "stream",
     "text": [
      "(4,)\n",
      "[1 2 3 4]\n"
     ]
    }
   ],
   "source": [
    "a = np.array([1,2,3,4])  # rank 1 array (1D array)\n",
    "print(a.shape)  \n",
    "print(a)"
   ]
  },
  {
   "cell_type": "markdown",
   "metadata": {},
   "source": [
    "We'll work exclusively with 2D(rank 2) arrays in this course. "
   ]
  },
  {
   "cell_type": "code",
   "execution_count": 14,
   "metadata": {},
   "outputs": [
    {
     "name": "stdout",
     "output_type": "stream",
     "text": [
      "[[1 2 3]\n",
      " [4 5 6]]\n",
      "(2, 3)\n"
     ]
    }
   ],
   "source": [
    "b = np.array([[1,2,3],[4,5,6]])                                     \n",
    "print(b)  \n",
    "print(b.shape) "
   ]
  },
  {
   "cell_type": "markdown",
   "metadata": {},
   "source": [
    "Numpy provides a way to generate a random array of any shape whose values are drawn from the standard normal distribution with mean $0$ and standard deviation $1$."
   ]
  },
  {
   "cell_type": "code",
   "execution_count": 15,
   "metadata": {},
   "outputs": [
    {
     "name": "stdout",
     "output_type": "stream",
     "text": [
      "[[-0.85570311 -0.45402232 -0.6988063 ]\n",
      " [ 0.7971485  -0.14636573  1.85429506]]\n"
     ]
    }
   ],
   "source": [
    "d = np.random.randn(2,3)   # standard normal distribution\n",
    "print(d)"
   ]
  },
  {
   "cell_type": "markdown",
   "metadata": {},
   "source": [
    "### Array math"
   ]
  },
  {
   "cell_type": "markdown",
   "metadata": {},
   "source": [
    "We'll deal exclusively with greyscale images(2D arrays, or matrices) in this course. We begin by reviewing some basic matrices and their operations. \n",
    "\n",
    "An $m\\times n$ matrix $A$ is a rectangular array of real numbers arranged in $m$ rows and $n$ columns and has the form:\n",
    " \n",
    "$$\\left[ \\begin{array}{cccc}\n",
    "a_{11} & a_{12} & \\ldots & a_{1n} \\\\\n",
    "a_{21} & a_{22} & \\ldots & a_{2n} \\\\\n",
    "\\vdots & \\vdots & \\ddots & \\vdots \\\\\n",
    "a_{m1} & a_{m2} & \\ldots & a_{mn}\n",
    "\\end{array} \\right] $$\n",
    "\n",
    "We will denote an $m\\times n$ matrix $A$ as $[a_{ij}]$. \n",
    "\n",
    "In Numpy, such a 2D array has shape $(m,n)$.\n",
    "\n",
    "Given two matrices $A=[a_{ij}]$ and $B=[b_{ij}]$, of dimension $m\\times n$. The sum $A+B$ and difference $A-B$ are calculated elementwise.\n",
    "\n",
    "For example,\n",
    "$$\\left[\\begin{array}{rr}\n",
    "1 & 2 \\\\\n",
    "3 & 4\n",
    "\\end{array}\\right]+\\left[\\begin{array}{rr}\n",
    "5 & 6 \\\\\n",
    "7 & 8\n",
    "\\end{array}\\right]=\\left[\\begin{array}{rr}\n",
    "6 & 8 \\\\\n",
    "10 & 12\n",
    "\\end{array}\\right]$$ \n",
    "\n"
   ]
  },
  {
   "cell_type": "code",
   "execution_count": 16,
   "metadata": {},
   "outputs": [
    {
     "data": {
      "text/plain": [
       "array([[ 6,  8],\n",
       "       [10, 12]])"
      ]
     },
     "execution_count": 16,
     "metadata": {},
     "output_type": "execute_result"
    }
   ],
   "source": [
    "x = np.array([[1,2],[3,4]])\n",
    "y = np.array([[5,6],[7,8]])\n",
    "# elementwise sum\n",
    "x + y"
   ]
  },
  {
   "cell_type": "code",
   "execution_count": 17,
   "metadata": {
    "scrolled": true
   },
   "outputs": [
    {
     "data": {
      "text/plain": [
       "array([[-4, -4],\n",
       "       [-4, -4]])"
      ]
     },
     "execution_count": 17,
     "metadata": {},
     "output_type": "execute_result"
    }
   ],
   "source": [
    "# Elementwise difference\n",
    "x - y"
   ]
  },
  {
   "cell_type": "markdown",
   "metadata": {},
   "source": [
    "The scalar product $cA$ of a real number(scalar) $c$ and a matrix $A$ is computed by multiplying every entry of $\\textbf{A}$ by $c$. Thus $cA=[ca_{ij}].$\n",
    "\n",
    "For example,\n",
    "$$3\\left[\\begin{array}{rr}\n",
    "1 & 2 \\\\\n",
    "3 & 4\n",
    "\\end{array}\\right]=\\left[\\begin{array}{rr}\n",
    "3 & 6 \\\\\n",
    "9 & 12\n",
    "\\end{array}\\right]$$ \n",
    "\n"
   ]
  },
  {
   "cell_type": "code",
   "execution_count": 18,
   "metadata": {},
   "outputs": [
    {
     "data": {
      "text/plain": [
       "array([[ 3,  6],\n",
       "       [ 9, 12]])"
      ]
     },
     "execution_count": 18,
     "metadata": {},
     "output_type": "execute_result"
    }
   ],
   "source": [
    "# scalar product \n",
    "3*x\n"
   ]
  },
  {
   "cell_type": "markdown",
   "metadata": {},
   "source": [
    "The elementwise product of two matrices $A=[a_{ij}]$ and $B=[b_{ij}]$, of dimension $m\\times n$, also known as the **Hadamard** product is $A*B=[a_{ij}*b_{ij}]$. \n",
    "\n",
    "For example,\n",
    "$$\\left[\\begin{array}{rr}\n",
    "1 & 2 \\\\\n",
    "3 & 4\n",
    "\\end{array}\\right]*\\left[\\begin{array}{rr}\n",
    "5 & 6 \\\\\n",
    "7 & 8\n",
    "\\end{array}\\right]=\\left[\\begin{array}{rr}\n",
    "5 & 12 \\\\\n",
    "21 & 32\n",
    "\\end{array}\\right]$$ "
   ]
  },
  {
   "cell_type": "code",
   "execution_count": 19,
   "metadata": {},
   "outputs": [
    {
     "data": {
      "text/plain": [
       "array([[ 5, 12],\n",
       "       [21, 32]])"
      ]
     },
     "execution_count": 19,
     "metadata": {},
     "output_type": "execute_result"
    }
   ],
   "source": [
    "# Elementwise product\n",
    "x*y"
   ]
  },
  {
   "cell_type": "markdown",
   "metadata": {},
   "source": [
    "Note that `*` is elementwise multiplication, not matrix multiplication. We instead use the ``dot`` function to multiply matrices. Matrix multiplication is VERY important in machine learning. You need to be very comfortable with it. Please review it, if necessary.\n",
    "\n",
    "We'll review matrix multiplication through some examples."
   ]
  },
  {
   "cell_type": "markdown",
   "metadata": {},
   "source": [
    "$$\\left[\\begin{array}{rr}\n",
    "1 & 2 \\\\\n",
    "3 & 4\n",
    "\\end{array}\\right]\\left[\\begin{array}{r}\n",
    "1 \\\\\n",
    "2\n",
    "\\end{array}\\right]=\\left[\\begin{array}{r}\n",
    "5 \\\\\n",
    "11\n",
    "\\end{array}\\right]$$ \n"
   ]
  },
  {
   "cell_type": "code",
   "execution_count": 20,
   "metadata": {},
   "outputs": [
    {
     "name": "stdout",
     "output_type": "stream",
     "text": [
      "[[ 5]\n",
      " [11]]\n"
     ]
    }
   ],
   "source": [
    "x = np.array([[1,2],[3,4]]) # shape (2,2)\n",
    "v = np.array([[1],[2]])   # shape (2,1)\n",
    "print(np.dot(x,v))\n",
    "   \n"
   ]
  },
  {
   "cell_type": "markdown",
   "metadata": {},
   "source": [
    "$$\\left[\\begin{array}{rr}\n",
    "1 & 0 & 3 \\\\\n",
    "4 & -1 & 2\n",
    "\\end{array}\\right]\\left[\\begin{array}{rr}\n",
    "0 & 1 \\\\\n",
    "2 & -1 \\\\\n",
    "3 & 0  \n",
    "\\end{array}\\right]=\\left[\\begin{array}{r}\n",
    "9 & 1 \\\\\n",
    "4 & 5\n",
    "\\end{array}\\right]$$ \n",
    "\n",
    "Note that a `(2,3)` array times `(3,2)` array yields a `(2,2)` array."
   ]
  },
  {
   "cell_type": "code",
   "execution_count": 21,
   "metadata": {},
   "outputs": [
    {
     "name": "stdout",
     "output_type": "stream",
     "text": [
      "[[9 1]\n",
      " [4 5]]\n"
     ]
    }
   ],
   "source": [
    "x = np.array([[1,0,3],[4,-1,2]]) \n",
    "y = np.array([[0,1],[2,-1],[3,0]])\n",
    "print(np.dot(x,y))\n"
   ]
  },
  {
   "cell_type": "markdown",
   "metadata": {},
   "source": [
    "The following matrix multiplication is undefined since the dimensions are not aligned correctly.\n",
    "\n",
    "$$\\left[\\begin{array}{rr}\n",
    "1 & 2 \\\\\n",
    "3 & 4\n",
    "\\end{array}\\right]\\left[\\begin{array}{rr}\n",
    "0 & 1\n",
    "\\end{array}\\right]$$ \n",
    "\n"
   ]
  },
  {
   "cell_type": "code",
   "execution_count": 22,
   "metadata": {},
   "outputs": [
    {
     "ename": "ValueError",
     "evalue": "shapes (2,2) and (1,2) not aligned: 2 (dim 1) != 1 (dim 0)",
     "output_type": "error",
     "traceback": [
      "\u001b[0;31m---------------------------------------------------------------------------\u001b[0m",
      "\u001b[0;31mValueError\u001b[0m                                Traceback (most recent call last)",
      "\u001b[0;32m<ipython-input-22-d1cb74c42028>\u001b[0m in \u001b[0;36m<module>\u001b[0;34m()\u001b[0m\n\u001b[1;32m      1\u001b[0m \u001b[0mx\u001b[0m \u001b[0;34m=\u001b[0m \u001b[0mnp\u001b[0m\u001b[0;34m.\u001b[0m\u001b[0marray\u001b[0m\u001b[0;34m(\u001b[0m\u001b[0;34m[\u001b[0m\u001b[0;34m[\u001b[0m\u001b[0;36m1\u001b[0m\u001b[0;34m,\u001b[0m\u001b[0;36m2\u001b[0m\u001b[0;34m]\u001b[0m\u001b[0;34m,\u001b[0m\u001b[0;34m[\u001b[0m\u001b[0;36m3\u001b[0m\u001b[0;34m,\u001b[0m\u001b[0;36m4\u001b[0m\u001b[0;34m]\u001b[0m\u001b[0;34m]\u001b[0m\u001b[0;34m)\u001b[0m\u001b[0;34m\u001b[0m\u001b[0m\n\u001b[1;32m      2\u001b[0m \u001b[0my\u001b[0m \u001b[0;34m=\u001b[0m \u001b[0mnp\u001b[0m\u001b[0;34m.\u001b[0m\u001b[0marray\u001b[0m\u001b[0;34m(\u001b[0m\u001b[0;34m[\u001b[0m\u001b[0;34m[\u001b[0m\u001b[0;36m0\u001b[0m\u001b[0;34m,\u001b[0m\u001b[0;36m1\u001b[0m\u001b[0;34m]\u001b[0m\u001b[0;34m]\u001b[0m\u001b[0;34m)\u001b[0m\u001b[0;34m\u001b[0m\u001b[0m\n\u001b[0;32m----> 3\u001b[0;31m \u001b[0mnp\u001b[0m\u001b[0;34m.\u001b[0m\u001b[0mdot\u001b[0m\u001b[0;34m(\u001b[0m\u001b[0mx\u001b[0m\u001b[0;34m,\u001b[0m\u001b[0my\u001b[0m\u001b[0;34m)\u001b[0m\u001b[0;34m\u001b[0m\u001b[0m\n\u001b[0m\u001b[1;32m      4\u001b[0m \u001b[0;34m\u001b[0m\u001b[0m\n",
      "\u001b[0;31mValueError\u001b[0m: shapes (2,2) and (1,2) not aligned: 2 (dim 1) != 1 (dim 0)"
     ]
    }
   ],
   "source": [
    "x = np.array([[1,2],[3,4]]) \n",
    "y = np.array([[0,1]])\n",
    "np.dot(x,y)\n",
    "\n"
   ]
  },
  {
   "cell_type": "markdown",
   "metadata": {},
   "source": [
    "\n",
    "Given a matrix $A$ of dimension $m\\times n$, define the **transpose**\n",
    "of $A$ denoted by $A^T$ as the matrix whose rows are the columns of $A$. Thus the dimension of $A^T$ is $n\\times m$. \n",
    "\n",
    "In Numpy, to transpose a matrix, simply use the T attribute of an array object:"
   ]
  },
  {
   "cell_type": "code",
   "execution_count": null,
   "metadata": {},
   "outputs": [],
   "source": []
  },
  {
   "cell_type": "code",
   "execution_count": 24,
   "metadata": {},
   "outputs": [
    {
     "name": "stdout",
     "output_type": "stream",
     "text": [
      "[[1 2 3]]\n",
      "[[1]\n",
      " [2]\n",
      " [3]]\n"
     ]
    }
   ],
   "source": [
    "v = np.array([[1,2,3]])\n",
    "print(v) # shape (1,3)\n",
    "print(v.T) # shape (3,1)"
   ]
  },
  {
   "cell_type": "markdown",
   "metadata": {},
   "source": [
    "Numpy provides many useful functions for performing computations on arrays; one of the most useful is `sum`:"
   ]
  },
  {
   "cell_type": "code",
   "execution_count": 26,
   "metadata": {},
   "outputs": [
    {
     "name": "stdout",
     "output_type": "stream",
     "text": [
      "[[1 2 3]\n",
      " [4 5 6]]\n",
      "21\n"
     ]
    }
   ],
   "source": [
    "# .sum(axis = n) dimension n is collapsed \n",
    "# and all values in the new matrix equal to the sum of the corresponding collapsed values\n",
    "\n",
    "x = np.array([[1,2,3],[4,5,6]])\n",
    "print(x)\n",
    "\n",
    "# Compute sum of all elements; \n",
    "print(np.sum(x))"
   ]
  },
  {
   "cell_type": "code",
   "execution_count": 27,
   "metadata": {},
   "outputs": [
    {
     "name": "stdout",
     "output_type": "stream",
     "text": [
      "[5 7 9]\n"
     ]
    }
   ],
   "source": [
    "# all the rows(axis=0) are collapsed, summing the columns\n",
    "print(np.sum(x, axis = 0))\n"
   ]
  },
  {
   "cell_type": "code",
   "execution_count": 28,
   "metadata": {},
   "outputs": [
    {
     "name": "stdout",
     "output_type": "stream",
     "text": [
      "[ 6 15]\n"
     ]
    }
   ],
   "source": [
    "print(np.sum(x, axis = 1)) # all the columns(axis=1) are collapsed, \n",
    "                          # summing the rows\n"
   ]
  },
  {
   "cell_type": "markdown",
   "metadata": {},
   "source": [
    "Another useful numpy function that we will use is argmax which returns the index of the largest value. "
   ]
  },
  {
   "cell_type": "code",
   "execution_count": 29,
   "metadata": {},
   "outputs": [
    {
     "name": "stdout",
     "output_type": "stream",
     "text": [
      "3\n"
     ]
    }
   ],
   "source": [
    "x = np.array([1,2,5,8,4,5])\n",
    "print(np.argmax(x))"
   ]
  },
  {
   "cell_type": "markdown",
   "metadata": {},
   "source": [
    "You can find the full list of mathematical functions provided by numpy in the [documentation](http://docs.scipy.org/doc/numpy/reference/routines.math.html)."
   ]
  },
  {
   "cell_type": "markdown",
   "metadata": {},
   "source": [
    "## Broadcasting"
   ]
  },
  {
   "cell_type": "markdown",
   "metadata": {},
   "source": [
    "Broadcasting allows operations on arrays whose shapes are not compatible. This notebook's treatment of broadcasting is VERY minimal. We only cover what is necessary for the rest of the course. \n",
    "\n",
    "You can find more information about broadcasting in the [documentation](https://docs.scipy.org/doc/numpy-1.14.0/user/basics.broadcasting.html)."
   ]
  },
  {
   "cell_type": "markdown",
   "metadata": {},
   "source": [
    "Consider the following matrices \n",
    "$A = \\left[\\begin{array}{rr}\n",
    "1 & 2 \\\\\n",
    "3 & 4\n",
    "\\end{array}\\right]$ and $B=\\left[\\begin{array}{rr}\n",
    "0 & 1\n",
    "\\end{array}\\right]$. Note that $A+B$ is undefined because the shapes `(2,2)` and `(2,1)` are not compatible.\n",
    "\n",
    "Numpy, however, will broadcast the shape of the second matrix to shape `(2,2)` to be compatible with the first so that the addition can be done. It does this without making copies of the data and wasting memory.\n",
    "\n",
    "$$\\left[\\begin{array}{rr}\n",
    "1 & 2 \\\\\n",
    "3 & 4\n",
    "\\end{array}\\right]+\\left[\\begin{array}{rr}\n",
    "0 & 1\\end{array}\\right]\\rightarrow\\left[\\begin{array}{rr}\n",
    "1 & 2 \\\\\n",
    "3 & 4\n",
    "\\end{array}\\right]+\\left[\\begin{array}{rr}\n",
    "0 & 1 \\\\\n",
    "0 & 1\n",
    "\\end{array}\\right]=\\left[\\begin{array}{rr}\n",
    "1 & 3 \\\\\n",
    "3 & 5\n",
    "\\end{array}\\right]$$\n",
    "\n",
    "Similarly, \n",
    "\n",
    "$$\\left[\\begin{array}{rr}\n",
    "1 & 2 \\\\\n",
    "3 & 4\n",
    "\\end{array}\\right]+\\left[\\begin{array}{rr}\n",
    "0 \\\\\n",
    "1 \\end{array}\\right]\\rightarrow\\left[\\begin{array}{rr}\n",
    "1 & 2 \\\\\n",
    "3 & 4\n",
    "\\end{array}\\right]+\\left[\\begin{array}{rr}\n",
    "0 & 0 \\\\\n",
    "1 & 1\n",
    "\\end{array}\\right]=\\left[\\begin{array}{rr}\n",
    "1 & 2 \\\\\n",
    "4 & 5\n",
    "\\end{array}\\right]$$\n"
   ]
  },
  {
   "cell_type": "code",
   "execution_count": 30,
   "metadata": {
    "scrolled": true
   },
   "outputs": [
    {
     "data": {
      "text/plain": [
       "array([[1, 3],\n",
       "       [3, 5]])"
      ]
     },
     "execution_count": 30,
     "metadata": {},
     "output_type": "execute_result"
    }
   ],
   "source": [
    "A = np.array([[1,2],[3,4]])\n",
    "B = np.array([[0,1]])\n",
    "A + B\n"
   ]
  },
  {
   "cell_type": "code",
   "execution_count": 31,
   "metadata": {
    "scrolled": true
   },
   "outputs": [
    {
     "data": {
      "text/plain": [
       "array([[1, 2],\n",
       "       [4, 5]])"
      ]
     },
     "execution_count": 31,
     "metadata": {},
     "output_type": "execute_result"
    }
   ],
   "source": [
    "A = np.array([[1,2],[3,4]])\n",
    "B = np.array([[0],[1]])\n",
    "A + B\n"
   ]
  },
  {
   "cell_type": "markdown",
   "metadata": {},
   "source": [
    "# Homework\n",
    "## Do the following problems."
   ]
  },
  {
   "cell_type": "markdown",
   "metadata": {},
   "source": [
    "Given a set of greyscale $30\\times 30$ images representing lower-cased letters of the English alphabet. Suppose a one-layer neural network is implemented with the score function $$f(\\vec{x})=(\\sigma\\circ p)(\\vec{x})=\\sigma(W\\vec{x}+\\vec{b})$$ to classify these letters. \n",
    "\n",
    "#### What dimensions are the input and output layers?\n",
    "\n",
    "#### Answer: \n",
    "\n",
    "#### What are the dimensions of the matrices `W` and `b`?\n",
    "\n",
    "#### Answer:  "
   ]
  },
  {
   "cell_type": "markdown",
   "metadata": {},
   "source": [
    "#### How many total parameters are used in the one-layer network above? \n",
    "\n",
    "#### Answer: "
   ]
  },
  {
   "cell_type": "markdown",
   "metadata": {},
   "source": [
    "Given a greyscale $50\\times 50$ image. Suppose a two-layer neural network with a $20$-dimensional or $20$ units hidden layer is implemented with the score function $$f(\\vec{x})=(\\sigma\\circ f_2\\circ\\sigma\\circ f_1)(\\vec{x})=\\sigma(W_2\\sigma(W_1\\vec{x}+\\vec{b}_1)+\\vec{b}_2)$$\n",
    "\n",
    "Suppose also that the score function accepts as inputs images that belong to one of 5 categories. \n",
    "\n",
    "#### What dimensions are the input and output layers?\n",
    "\n",
    "#### Answer: \n",
    "#### What are the dimensions of the matrices `W1`, `W2`, `b1` and `b2` ?\n",
    "\n",
    "#### Answer:  "
   ]
  },
  {
   "cell_type": "markdown",
   "metadata": {},
   "source": [
    "#### How many total parameters are used in the two-layer network above? \n",
    "\n",
    "#### Answer: "
   ]
  },
  {
   "cell_type": "markdown",
   "metadata": {},
   "source": [
    "#### Manually create a 1D numpy array with numbers from 1 to 4."
   ]
  },
  {
   "cell_type": "code",
   "execution_count": null,
   "metadata": {},
   "outputs": [],
   "source": []
  },
  {
   "cell_type": "markdown",
   "metadata": {},
   "source": [
    "#### Create a 2D numpy array  with numbers from 1 to 4."
   ]
  },
  {
   "cell_type": "code",
   "execution_count": null,
   "metadata": {},
   "outputs": [],
   "source": []
  },
  {
   "cell_type": "markdown",
   "metadata": {},
   "source": [
    "#### Create an 1D array with the arange function from 0 to 29(inclusive). Then reshape it into 1) an 2D array of the appropriate size. and 2) an 3D array of the appropriate size."
   ]
  },
  {
   "cell_type": "code",
   "execution_count": null,
   "metadata": {},
   "outputs": [],
   "source": []
  },
  {
   "cell_type": "markdown",
   "metadata": {},
   "source": [
    "#### Create a 2D numpy array with shape `(4,5)` with of random values from the normal distribution. "
   ]
  },
  {
   "cell_type": "code",
   "execution_count": null,
   "metadata": {},
   "outputs": [],
   "source": []
  },
  {
   "cell_type": "markdown",
   "metadata": {},
   "source": [
    "#### Compute the following using numpy arrays. Use 2D arrays for both the matrix and the column vector.\n",
    "\n",
    "$$\\left[\\begin{array}{rr}\n",
    "-2 & 1 & 1 \\\\\n",
    "3 & 2 & 3\n",
    "\\end{array}\\right]\\left[\\begin{array}{rr}\n",
    "0 \\\\\n",
    "2 \\\\\n",
    "3   \n",
    "\\end{array}\\right]$$ \n",
    "\n"
   ]
  },
  {
   "cell_type": "code",
   "execution_count": null,
   "metadata": {
    "collapsed": true
   },
   "outputs": [],
   "source": []
  },
  {
   "cell_type": "markdown",
   "metadata": {},
   "source": [
    "#### Let $X=\\left[\\begin{array}{rr}-2 & 1 & 1 \\\\3 & 2 & 3\\end{array}\\right]$. Compute $X^T$ the transpose of $X$.\n",
    "\n"
   ]
  },
  {
   "cell_type": "code",
   "execution_count": null,
   "metadata": {
    "collapsed": true
   },
   "outputs": [],
   "source": []
  },
  {
   "cell_type": "markdown",
   "metadata": {},
   "source": [
    "#### Let $A=\\left[\\begin{array}{rr} 3 & -1  \\\\ -2 & 1 \\end{array}\\right]$ and $B=\\left[\\begin{array}{rr} 1 & 2  \\\\ -4 & 3 \\end{array}\\right]$. Compute $3A-2B$."
   ]
  },
  {
   "cell_type": "code",
   "execution_count": null,
   "metadata": {
    "collapsed": true
   },
   "outputs": [],
   "source": []
  },
  {
   "cell_type": "markdown",
   "metadata": {},
   "source": [
    "#### Let $A$ and $B$ be as in the previous problem. Compute the matrix product $AB$ and the elementwise Hadamard product $A*B$."
   ]
  },
  {
   "cell_type": "code",
   "execution_count": null,
   "metadata": {
    "collapsed": true
   },
   "outputs": [],
   "source": []
  },
  {
   "cell_type": "markdown",
   "metadata": {},
   "source": [
    "#### Let $A=\\left[\\begin{array}{rr} 3 & -1 &2  \\\\ -2 & 1 & 4 \\\\ 0 & 5 & 1 \\end{array}\\right]$. Find the sum of all of the rows. Your answer should be the 1D array $$\\left[\\begin{array}{rr} 1 & 5 &7\\end{array}\\right].$$"
   ]
  },
  {
   "cell_type": "code",
   "execution_count": null,
   "metadata": {
    "collapsed": true
   },
   "outputs": [],
   "source": []
  },
  {
   "cell_type": "markdown",
   "metadata": {},
   "source": [
    "#### Compute the sum as from the previous problem. But this time, keep the same dimension. "
   ]
  },
  {
   "cell_type": "code",
   "execution_count": null,
   "metadata": {},
   "outputs": [],
   "source": []
  },
  {
   "cell_type": "markdown",
   "metadata": {},
   "source": [
    "#### Let $A$ be the array as in the previous problem. Find the sum by collapsing all of the columns. Your answer should be the 1D array $$\\left[\\begin{array}{rr} 4 & 3 &6\\end{array}\\right].$$"
   ]
  },
  {
   "cell_type": "code",
   "execution_count": null,
   "metadata": {
    "collapsed": true
   },
   "outputs": [],
   "source": []
  },
  {
   "cell_type": "markdown",
   "metadata": {},
   "source": [
    "#### Let `A` be the array as in the previous problem. Consider the function below which accepts a number and returns its square. "
   ]
  },
  {
   "cell_type": "code",
   "execution_count": 6,
   "metadata": {
    "collapsed": true
   },
   "outputs": [],
   "source": [
    "def sq(x):\n",
    "    return x*x"
   ]
  },
  {
   "cell_type": "code",
   "execution_count": 7,
   "metadata": {},
   "outputs": [
    {
     "data": {
      "text/plain": [
       "9"
      ]
     },
     "execution_count": 7,
     "metadata": {},
     "output_type": "execute_result"
    }
   ],
   "source": [
    "sq(3)"
   ]
  },
  {
   "cell_type": "markdown",
   "metadata": {},
   "source": [
    "#### Compute `sq(A)`. What do you notice? In general, if `A` is an $m\\times n$ matrix $[a_{ij}]$ and $f:\\mathbb{R}\\rightarrow\\mathbb{R}$ is a function. Then $f(A)$ is the $m\\times n$ matrix given by $[f(a_{ij})]$. In other words, $f$ is applied elementwise to each entry of `A`. This is an important operation in machine learning.  \n"
   ]
  },
  {
   "cell_type": "code",
   "execution_count": null,
   "metadata": {
    "collapsed": true
   },
   "outputs": [],
   "source": []
  },
  {
   "cell_type": "markdown",
   "metadata": {},
   "source": [
    "#### Let $A=\\left[\\begin{array}{rr} 4 & 5 & 0 \\\\ -1 & 3 & 2 \\\\ -3 & 6 & 3\\end{array}\\right]$ and $B=\\left[\\begin{array}{rr} 1 & -2 & 1 \\end{array}\\right]$. Use broadcasting to  compute $A+B$. Do it by hand before verifying with code."
   ]
  },
  {
   "cell_type": "code",
   "execution_count": null,
   "metadata": {
    "collapsed": true
   },
   "outputs": [],
   "source": []
  },
  {
   "cell_type": "markdown",
   "metadata": {},
   "source": [
    "#### Let $A=\\left[\\begin{array}{rr} 4 & 5  \\\\ -1 & 3 \\end{array}\\right]$ and $B=\\left[\\begin{array}{rr} 1 \\end{array}\\right]$. Use broadcasting to  compute $A+B$. Do it by hand before verifying with code."
   ]
  },
  {
   "cell_type": "code",
   "execution_count": null,
   "metadata": {
    "collapsed": true
   },
   "outputs": [],
   "source": []
  },
  {
   "cell_type": "markdown",
   "metadata": {},
   "source": [
    "#### Let $A=\\left[\\begin{array}{rr} 4 & 5  \\\\ -1 & 3 \\end{array}\\right]$ and $X=\\left[\\begin{array}{rr} 1 & 1  \\\\ 2 & -1 \\end{array}\\right]$ and $b=\\left[\\begin{array}{rr} 1 \\\\ 2 \\end{array}\\right]$. Use broadcasting to  compute $AX+b$. Do it by hand before verifying with code."
   ]
  },
  {
   "cell_type": "code",
   "execution_count": null,
   "metadata": {
    "collapsed": true
   },
   "outputs": [],
   "source": []
  }
 ],
 "metadata": {
  "kernelspec": {
   "display_name": "Python 3",
   "language": "python",
   "name": "python3"
  },
  "language_info": {
   "codemirror_mode": {
    "name": "ipython",
    "version": 3
   },
   "file_extension": ".py",
   "mimetype": "text/x-python",
   "name": "python",
   "nbconvert_exporter": "python",
   "pygments_lexer": "ipython3",
   "version": "3.6.4"
  }
 },
 "nbformat": 4,
 "nbformat_minor": 1
}
