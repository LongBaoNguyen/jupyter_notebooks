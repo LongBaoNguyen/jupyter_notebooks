{
 "cells": [
  {
   "cell_type": "markdown",
   "metadata": {
    "collapsed": true
   },
   "source": [
    "## Writing a Python Program that Recognizes Images\n",
    "### by Long Nguyen"
   ]
  },
  {
   "cell_type": "markdown",
   "metadata": {},
   "source": [
    "Congratulations for making it this far! In this notebook, we put together some of the functions implemented in the previous notebooks as well as finally implementing gradient descent to recognize handwritten digits. \n",
    "\n",
    "This homework notebook is supplemental to Lecture 6 of the series \"Image Recognition with Neural Networks\".\n",
    "\n",
    "\n",
    "If you get stuck, see the Lecture 6's video for solutions. Here's a link to the [playlist](https://www.youtube.com/playlist?list=PLYNGZdVGGmHxfiQSulJm7eCKN-zOvQjao)."
   ]
  },
  {
   "cell_type": "markdown",
   "metadata": {},
   "source": [
    "This code is adapted from Michael Nielsen's book: [Neural Networks and Deep Learning](http://neuralnetworksanddeeplearning.com/)\n",
    "\n",
    "One main difference is that I vectorize this code. "
   ]
  },
  {
   "cell_type": "markdown",
   "metadata": {},
   "source": [
    "#### Feel free to copy and paste from your work on previous notebooks. "
   ]
  },
  {
   "cell_type": "code",
   "execution_count": 9,
   "metadata": {},
   "outputs": [],
   "source": [
    "from mnist_loader import load_data_wrapper\n",
    "import numpy as np\n",
    "import random\n",
    "import matplotlib.pyplot as plt"
   ]
  },
  {
   "cell_type": "code",
   "execution_count": 10,
   "metadata": {},
   "outputs": [],
   "source": [
    "training_data, validation_data, test_data = load_data_wrapper()"
   ]
  },
  {
   "cell_type": "code",
   "execution_count": 11,
   "metadata": {},
   "outputs": [],
   "source": [
    "def plot_images(images):\n",
    "    \"Plot a list of MNIST images.\"\n",
    "    fig, axes = plt.subplots(nrows=1, ncols=len(images))\n",
    "    for j, ax in enumerate(axes):\n",
    "        ax.matshow(images[j][0].reshape(28,28), cmap = plt.cm.binary)\n",
    "        ax.set_xticks([])\n",
    "        ax.set_yticks([])\n",
    "    plt.show()"
   ]
  },
  {
   "cell_type": "code",
   "execution_count": 12,
   "metadata": {},
   "outputs": [],
   "source": [
    "def predict(images, W1, W2, B1, B2):\n",
    "    predictions = []\n",
    "    for im in images:\n",
    "        a = f(im[0], W1, W2, B1, B2)\n",
    "        predictions.append(np.argmax(a))\n",
    "    return predictions"
   ]
  },
  {
   "cell_type": "markdown",
   "metadata": {},
   "source": [
    "#### Implement $\\sigma(x)$. "
   ]
  },
  {
   "cell_type": "code",
   "execution_count": 13,
   "metadata": {},
   "outputs": [],
   "source": [
    "def sigmoid(x):\n",
    "    \"\"\"The sigmoid function.\"\"\"\n",
    "    return 1/(1+np.exp(-x))\n"
   ]
  },
  {
   "cell_type": "markdown",
   "metadata": {},
   "source": [
    "#### Implement the derivative of $\\sigma$. (Hint: $\\sigma'(x)=\\sigma(x)(1-\\sigma(x))$)"
   ]
  },
  {
   "cell_type": "code",
   "execution_count": 14,
   "metadata": {},
   "outputs": [],
   "source": [
    "def sigmoid_prime(x):\n",
    "    \"\"\"Derivative of the sigmoid function.\"\"\"\n",
    "    return sigmoid(x)*(1-sigmoid(x))\n"
   ]
  },
  {
   "cell_type": "markdown",
   "metadata": {},
   "source": [
    "#### Implement the score function."
   ]
  },
  {
   "cell_type": "code",
   "execution_count": 15,
   "metadata": {},
   "outputs": [],
   "source": [
    "def f(x, W1, W2, B1, B2):\n",
    "    \"\"\"Return the output of the network if ``x`` is input image and\n",
    "    W1, W2, B1 and B2 are the learnable weights. \"\"\"\n",
    "    Z1 = np.dot(W1,x)+B1\n",
    "    A1 = sigmoid(Z1)\n",
    "    Z2 = np.dot(W2,A1)+B2\n",
    "    A2 = sigmoid(Z2)\n",
    "    return A2\n",
    "    \n"
   ]
  },
  {
   "cell_type": "markdown",
   "metadata": {},
   "source": [
    "#### Implement vectorize_mini_batch."
   ]
  },
  {
   "cell_type": "code",
   "execution_count": 16,
   "metadata": {},
   "outputs": [],
   "source": [
    "def vectorize_mini_batch(mini_batch):\n",
    "    \"\"\"Given a minibatch of (image,label) tuples of a certain size\n",
    "    return the tuple X,Y where X contains all of the images and Y contains\n",
    "    all of the labels stacked horizontally \"\"\"\n",
    "    mini_batch_x = []\n",
    "    mini_batch_y = []\n",
    "    for k in range(0,len(mini_batch)):\n",
    "        mini_batch_x.append(mini_batch[k][0])\n",
    "        mini_batch_y.append(mini_batch[k][1])\n",
    "        \n",
    "    X = np.hstack(mini_batch_x)\n",
    "    Y = np.hstack(mini_batch_y)\n",
    "    return X, Y   "
   ]
  },
  {
   "cell_type": "markdown",
   "metadata": {},
   "source": [
    "Suppose we have an $L$-layer neural network. For an $m\\times n$ matrix $A$, let i-th column of A be denoted by $A[i]$. \n",
    "\n",
    "Let $\\cdot$ denote matrix multiplication and $\\odot$ denote element-wise multiplication. \n",
    "\n",
    "These are the four equations of backpropagation. \n",
    "\n",
    "\\begin{align}\n",
    "\\frac{\\partial J}{\\partial Z_L}&=\\frac{1}{m}(A_L-Y)\\odot\\sigma'(Z_L)\\\\\n",
    "\\frac{\\partial J}{\\partial Z_i}&=\\frac{1}{m}W_{i+1}^T\\cdot \\frac{\\partial J}{\\partial Z_{i+1}}\\odot\\sigma'(Z_i)\\\\\n",
    "\\frac{\\partial J}{\\partial W_i}\n",
    "&=\\frac{\\partial J}{\\partial Z_i}\\cdot A_{i-1}^T\\\\\n",
    "\\frac{\\partial J}{\\partial B_i}\n",
    "&=\\displaystyle\\dfrac{1}{m}\\sum_i \\frac{\\partial J}{\\partial Z_i}[i]\n",
    "\\end{align}"
   ]
  },
  {
   "cell_type": "markdown",
   "metadata": {},
   "source": [
    "#### Implement gradient descent. "
   ]
  },
  {
   "cell_type": "code",
   "execution_count": 19,
   "metadata": {},
   "outputs": [],
   "source": [
    "def SGD(training_data, epochs, mini_batch_size, eta, test_data):\n",
    "    \"\"\"Gradient descent. \n",
    "    Epochs: the number of times the entire training_data is examined.\n",
    "    mini_batch_size: the number of images used to approximate the gradient \n",
    "    each step of gradient descent.\n",
    "    eta: the learning rate or the step size.\n",
    "    test_data: check accuracy of the model against the test_data every epoch.\n",
    "    \"\"\"\n",
    "    n = len(training_data)\n",
    "    n_test = len(test_data)\n",
    "    \n",
    "    W1 = np.random.randn(30,784)\n",
    "    W2 = np.random.randn(10,30)\n",
    "    B1 = np.random.randn(30,1)\n",
    "    B2 = np.random.randn(10,1)\n",
    "    \n",
    "    for j in range(epochs):\n",
    "        random.shuffle(training_data)\n",
    "        for k in range(0, n, mini_batch_size):\n",
    "            mini_batch = training_data[k: k+mini_batch_size]\n",
    "            X, Y = vectorize_mini_batch(mini_batch)\n",
    "            \n",
    "            \n",
    "            # feed forward\n",
    "            Z1 = np.dot(W1,X)+B1\n",
    "            A1 = sigmoid(Z1)\n",
    "            Z2 = np.dot(W2,A1)+B2\n",
    "            A2 = sigmoid(Z2)\n",
    "            \n",
    "            # backpropagate\n",
    "            dZ2 = 1/mini_batch_size*(A2-Y)*sigmoid_prime(Z2)\n",
    "            dW2 = np.dot(dZ2, A1.T)\n",
    "            dB2 = 1/mini_batch_size*np.sum(dZ2, axis = 1, keepdims = True)\n",
    "            \n",
    "            dZ1 = 1/mini_batch_size*np.dot(W2.T, dZ2)*sigmoid_prime(Z1)\n",
    "            dW1 = np.dot(dZ1, X.T)\n",
    "            dB1 = 1/mini_batch_size*np.sum(dZ1, axis = 1, keepdims = True)\n",
    "            \n",
    "            # update parameters\n",
    "            \n",
    "            W2 = W2 - eta*dW2\n",
    "            W1 = W1 - eta*dW1\n",
    "            B2 = B2 - eta*dB2\n",
    "            B1 = B1 - eta*dB1\n",
    "            \n",
    "            \n",
    "        # after every epoch, check the accuracy of the model    \n",
    "        test_results = [(np.argmax(f(x, W1, W2, B1, B2)), y) for (x, y) in test_data]\n",
    "        num_correct = sum(int(x == y) for (x, y) in test_results)\n",
    "        print(\"Epoch {} : {} / {}\".format(j, num_correct, n_test));\n",
    "        \n",
    "    return W1, B1, W2, B2\n"
   ]
  },
  {
   "cell_type": "code",
   "execution_count": 20,
   "metadata": {},
   "outputs": [
    {
     "name": "stdout",
     "output_type": "stream",
     "text": [
      "Epoch 0 : 8199 / 10000\n",
      "Epoch 1 : 8683 / 10000\n",
      "Epoch 2 : 8828 / 10000\n",
      "Epoch 3 : 8985 / 10000\n",
      "Epoch 4 : 9015 / 10000\n",
      "Epoch 5 : 9074 / 10000\n",
      "Epoch 6 : 9104 / 10000\n",
      "Epoch 7 : 9119 / 10000\n",
      "Epoch 8 : 9183 / 10000\n",
      "Epoch 9 : 9161 / 10000\n",
      "Epoch 10 : 9214 / 10000\n",
      "Epoch 11 : 9226 / 10000\n",
      "Epoch 12 : 9233 / 10000\n",
      "Epoch 13 : 9246 / 10000\n",
      "Epoch 14 : 9249 / 10000\n",
      "Epoch 15 : 9260 / 10000\n",
      "Epoch 16 : 9295 / 10000\n",
      "Epoch 17 : 9285 / 10000\n",
      "Epoch 18 : 9282 / 10000\n",
      "Epoch 19 : 9290 / 10000\n",
      "Epoch 20 : 9279 / 10000\n",
      "Epoch 21 : 9285 / 10000\n",
      "Epoch 22 : 9310 / 10000\n",
      "Epoch 23 : 9315 / 10000\n",
      "Epoch 24 : 9327 / 10000\n",
      "Epoch 25 : 9301 / 10000\n",
      "Epoch 26 : 9341 / 10000\n",
      "Epoch 27 : 9331 / 10000\n",
      "Epoch 28 : 9314 / 10000\n",
      "Epoch 29 : 9337 / 10000\n"
     ]
    }
   ],
   "source": [
    "W1, B1, W2, B2 = SGD(training_data, 30, 10, 3, test_data)"
   ]
  },
  {
   "cell_type": "code",
   "execution_count": 21,
   "metadata": {},
   "outputs": [
    {
     "data": {
      "text/plain": [
       "[8, 5, 2, 9, 0, 3, 6, 9, 9, 2]"
      ]
     },
     "execution_count": 21,
     "metadata": {},
     "output_type": "execute_result"
    }
   ],
   "source": [
    "predict(training_data[0:10],W1,W2,B1,B2)"
   ]
  },
  {
   "cell_type": "code",
   "execution_count": 22,
   "metadata": {},
   "outputs": [
    {
     "data": {
      "image/png": "[encoded data removed]",
      "text/plain": [
       "<matplotlib.figure.Figure at 0x122766f28>"
      ]
     },
     "metadata": {},
     "output_type": "display_data"
    }
   ],
   "source": [
    "plot_images(training_data[0:10])"
   ]
  },
  {
   "cell_type": "code",
   "execution_count": null,
   "metadata": {},
   "outputs": [],
   "source": []
  }
 ],
 "metadata": {
  "kernelspec": {
   "display_name": "Python [default]",
   "language": "python",
   "name": "python3"
  },
  "language_info": {
   "codemirror_mode": {
    "name": "ipython",
    "version": 3
   },
   "file_extension": ".py",
   "mimetype": "text/x-python",
   "name": "python",
   "nbconvert_exporter": "python",
   "pygments_lexer": "ipython3",
   "version": "3.6.4"
  }
 },
 "nbformat": 4,
 "nbformat_minor": 2
}
