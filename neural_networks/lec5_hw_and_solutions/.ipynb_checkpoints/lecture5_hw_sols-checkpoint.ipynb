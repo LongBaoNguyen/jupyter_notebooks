{
 "cells": [
  {
   "cell_type": "markdown",
   "metadata": {
    "collapsed": true
   },
   "source": [
    "## Writing a Python Program that Recognizes Images\n",
    "\n",
    "\n",
    "### Lecture 5: Gradient Descent and Backpropagation\n",
    "### by Long Nguyen"
   ]
  },
  {
   "cell_type": "markdown",
   "metadata": {},
   "source": [
    "#### This is the solutions to the homework notebook for [Lecture 5](https://www.youtube.com/watch?v=5DRTxPFiVw4). \n"
   ]
  },
  {
   "cell_type": "markdown",
   "metadata": {},
   "source": [
    "Congratulations for making it this far! In this notebook, we put together some of the functions implemented in the previous notebooks as well as finally implementing gradient descent to recognize handwritten digits. \n"
   ]
  },
  {
   "cell_type": "markdown",
   "metadata": {},
   "source": [
    "This code is adapted from Michael Nielsen's book: [Neural Networks and Deep Learning](http://neuralnetworksanddeeplearning.com/)\n",
    "\n",
    "One main difference is that I vectorize this code. "
   ]
  },
  {
   "cell_type": "markdown",
   "metadata": {},
   "source": [
    "#### Feel free to copy and paste from your work on previous notebooks. "
   ]
  },
  {
   "cell_type": "code",
   "execution_count": 1,
   "metadata": {},
   "outputs": [],
   "source": [
    "from mnist_loader import load_data_wrapper\n",
    "import numpy as np\n",
    "import random\n",
    "import matplotlib.pyplot as plt"
   ]
  },
  {
   "cell_type": "code",
   "execution_count": 2,
   "metadata": {},
   "outputs": [],
   "source": [
    "training_data, validation_data, test_data = load_data_wrapper()"
   ]
  },
  {
   "cell_type": "markdown",
   "metadata": {},
   "source": [
    "The function plot_images below are taken from the first notebook and lecture. "
   ]
  },
  {
   "cell_type": "code",
   "execution_count": 3,
   "metadata": {},
   "outputs": [],
   "source": [
    "def plot_images(images):\n",
    "    \"Plot a list of MNIST images.\"\n",
    "    fig, axes = plt.subplots(nrows=1, ncols=len(images))\n",
    "    for j, ax in enumerate(axes):\n",
    "        ax.matshow(images[j][0].reshape(28,28), cmap = plt.cm.binary)\n",
    "        ax.set_xticks([])\n",
    "        ax.set_yticks([])\n",
    "    plt.show()"
   ]
  },
  {
   "cell_type": "markdown",
   "metadata": {},
   "source": [
    "#### Implement $\\sigma(x)$. \n",
    "\n",
    "#### The sigmoid function is define as $$\\sigma(x)=\\frac{1}{1+e^{-x}}.$$ Implement the sigmoid function. Hint: Use np.exp() for the exponential function. \n",
    "\n",
    "#### See lecture1_hw notebook."
   ]
  },
  {
   "cell_type": "code",
   "execution_count": 5,
   "metadata": {},
   "outputs": [],
   "source": [
    "def sigmoid(x):\n",
    "    \"\"\"The sigmoid function.\"\"\"\n",
    "    return 1/(1+np.exp(-x))\n"
   ]
  },
  {
   "cell_type": "markdown",
   "metadata": {},
   "source": [
    "#### Implement the derivative of $\\sigma$. (Hint: $\\sigma'(x)=\\sigma(x)(1-\\sigma(x))$)"
   ]
  },
  {
   "cell_type": "code",
   "execution_count": 6,
   "metadata": {},
   "outputs": [],
   "source": [
    "def sigmoid_prime(x):\n",
    "    \"\"\"Derivative of the sigmoid function.\"\"\"\n",
    "    return sigmoid(x)*(1-sigmoid(x))\n"
   ]
  },
  {
   "cell_type": "markdown",
   "metadata": {},
   "source": [
    "#### Implement the score function. See lecture3_hw notebook."
   ]
  },
  {
   "cell_type": "code",
   "execution_count": 7,
   "metadata": {},
   "outputs": [],
   "source": [
    "def f(x, W1, W2, B1, B2):\n",
    "    \"\"\"Return the output of the network if ``x`` is input image and\n",
    "    W1, W2, B1 and B2 are the learnable weights. \"\"\"\n",
    "    Z1 = np.dot(W1,x)+B1\n",
    "    A1 = sigmoid(Z1)\n",
    "    Z2 = np.dot(W2,A1)+B2\n",
    "    A2 = sigmoid(Z2)\n",
    "    return A2\n",
    "    \n"
   ]
  },
  {
   "cell_type": "markdown",
   "metadata": {},
   "source": [
    "#### Implement vectorize_mini_batch. See lecture3_hw notebook."
   ]
  },
  {
   "cell_type": "code",
   "execution_count": 8,
   "metadata": {},
   "outputs": [],
   "source": [
    "def vectorize_mini_batch(mini_batch):\n",
    "    \"\"\"Given a minibatch of (image,label) tuples of a certain size\n",
    "    return the tuple X,Y where X contains all of the images and Y contains\n",
    "    all of the labels stacked horizontally \"\"\"\n",
    "    mini_batch_x = [mini_batch[k][0] for k in range(0,len(mini_batch))]\n",
    "    mini_batch_y = [mini_batch[k][1] for k in range(0,len(mini_batch))]\n",
    "    X = np.hstack(mini_batch_x)\n",
    "    Y = np.hstack(mini_batch_y)\n",
    "    return X, Y"
   ]
  },
  {
   "cell_type": "markdown",
   "metadata": {},
   "source": [
    "Suppose we have an $L$-layer neural network. For an $m\\times n$ matrix $A$, let i-th column of A be denoted by $A[i]$. \n",
    "\n",
    "Let $\\cdot$ denote matrix multiplication and $\\odot$ denote element-wise multiplication. \n",
    "\n",
    "These are the four equations of backpropagation. \n",
    "\n",
    "\\begin{align}\n",
    "\\frac{\\partial J}{\\partial Z_L}&=\\frac{1}{m}(A_L-Y)\\odot\\sigma'(Z_L)\\\\\n",
    "\\frac{\\partial J}{\\partial Z_i}&=\\frac{1}{m}W_{i+1}^T\\cdot \\frac{\\partial J}{\\partial Z_{i+1}}\\odot\\sigma'(Z_i)\\\\\n",
    "\\frac{\\partial J}{\\partial W_i}\n",
    "&=\\frac{\\partial J}{\\partial Z_i}\\cdot A_{i-1}^T\\\\\n",
    "\\frac{\\partial J}{\\partial B_i}\n",
    "&=\\displaystyle\\dfrac{1}{m}\\sum_i \\frac{\\partial J}{\\partial Z_i}[i]\n",
    "\\end{align}"
   ]
  },
  {
   "cell_type": "markdown",
   "metadata": {},
   "source": [
    "#### Implement gradient descent. "
   ]
  },
  {
   "cell_type": "code",
   "execution_count": 9,
   "metadata": {},
   "outputs": [],
   "source": [
    "def SGD(training_data, epochs, mini_batch_size, eta, test_data):\n",
    "    \"\"\"Gradient descent. \n",
    "    Epochs: the number of times the entire training_data is examined.\n",
    "    mini_batch_size: the number of images used to approximate the gradient \n",
    "    each step of gradient descent.\n",
    "    eta: the learning rate or the step size.\n",
    "    test_data: check accuracy of the model against the test_data every epoch.\n",
    "    \"\"\"\n",
    "    n = len(training_data)\n",
    "    n_test = len(test_data)\n",
    "    \n",
    "    W1 = np.random.randn(30,784)\n",
    "    W2 = np.random.randn(10,30)\n",
    "    B1 = np.random.randn(30,1)\n",
    "    B2 = np.random.randn(10,1)\n",
    "    \n",
    "    for j in range(epochs):\n",
    "        random.shuffle(training_data)\n",
    "        for k in range(0, n, mini_batch_size):\n",
    "            \n",
    "            mini_batch = training_data[k: k+mini_batch_size]\n",
    "            \n",
    "            \n",
    "            X, Y = vectorize_mini_batch(mini_batch)\n",
    "            \n",
    "            \n",
    "            # feed forward\n",
    "            Z1 = np.dot(W1,X)+B1\n",
    "            A1 = sigmoid(Z1)\n",
    "            Z2 = np.dot(W2,A1)+B2\n",
    "            A2 = sigmoid(Z2)\n",
    "            \n",
    "            # backpropagate\n",
    "            dZ2 = 1/mini_batch_size*(A2-Y)*sigmoid_prime(Z2)\n",
    "            \n",
    "            dW2 = np.dot(dZ2, A1.T)\n",
    "            \n",
    "            dB2 = 1/mini_batch_size*np.sum(dZ2, axis = 1, keepdims = True)\n",
    "            \n",
    "            dZ1 = 1/mini_batch_size*np.dot(W2.T, dZ2)*sigmoid_prime(Z1)\n",
    "             \n",
    "            dW1 = np.dot(dZ1, X.T)\n",
    "            \n",
    "            dB1 = 1/mini_batch_size*np.sum(dZ1, axis = 1, keepdims = True)\n",
    "            \n",
    "            # update parameters\n",
    "            \n",
    "            W2 = W2 - eta*dW2\n",
    "            W1 = W1 - eta*dW1\n",
    "            B2 = B2 - eta*dB2\n",
    "            B1 = B1 - eta*dB1\n",
    "            \n",
    "            \n",
    "        # after every epoch, check the accuracy of the model    \n",
    "        test_results = [(np.argmax(f(x, W1, W2, B1, B2)), y) for (x, y) in test_data]\n",
    "        num_correct = sum(int(x == y) for (x, y) in test_results)\n",
    "        print(\"Epoch {} : {} / {}\".format(j, num_correct, n_test));\n",
    "        \n",
    "    return W1, B1, W2, B2\n"
   ]
  },
  {
   "cell_type": "markdown",
   "metadata": {},
   "source": [
    "#### Call SGD above to return the learnable weights optimized for recognizing digits. "
   ]
  },
  {
   "cell_type": "code",
   "execution_count": 11,
   "metadata": {
    "scrolled": true
   },
   "outputs": [
    {
     "name": "stdout",
     "output_type": "stream",
     "text": [
      "Epoch 0 : 8223 / 10000\n",
      "Epoch 1 : 8653 / 10000\n",
      "Epoch 2 : 8885 / 10000\n",
      "Epoch 3 : 8989 / 10000\n",
      "Epoch 4 : 9063 / 10000\n",
      "Epoch 5 : 9118 / 10000\n",
      "Epoch 6 : 9139 / 10000\n",
      "Epoch 7 : 9170 / 10000\n",
      "Epoch 8 : 9189 / 10000\n",
      "Epoch 9 : 9220 / 10000\n",
      "Epoch 10 : 9255 / 10000\n",
      "Epoch 11 : 9260 / 10000\n",
      "Epoch 12 : 9276 / 10000\n",
      "Epoch 13 : 9262 / 10000\n",
      "Epoch 14 : 9280 / 10000\n",
      "Epoch 15 : 9297 / 10000\n",
      "Epoch 16 : 9269 / 10000\n",
      "Epoch 17 : 9297 / 10000\n",
      "Epoch 18 : 9308 / 10000\n",
      "Epoch 19 : 9306 / 10000\n",
      "Epoch 20 : 9327 / 10000\n",
      "Epoch 21 : 9323 / 10000\n",
      "Epoch 22 : 9320 / 10000\n",
      "Epoch 23 : 9347 / 10000\n",
      "Epoch 24 : 9326 / 10000\n",
      "Epoch 25 : 9340 / 10000\n",
      "Epoch 26 : 9329 / 10000\n",
      "Epoch 27 : 9349 / 10000\n",
      "Epoch 28 : 9346 / 10000\n",
      "Epoch 29 : 9339 / 10000\n"
     ]
    }
   ],
   "source": [
    "W1, B1, W2, B2 = SGD(training_data, 30, 10, 3, test_data)"
   ]
  },
  {
   "cell_type": "markdown",
   "metadata": {},
   "source": [
    "#### Test your parameters by predicting the first 10 images of the testing set. The program has not seen these images."
   ]
  },
  {
   "cell_type": "code",
   "execution_count": 4,
   "metadata": {},
   "outputs": [],
   "source": [
    "def predict(images, W1, W2, B1, B2):\n",
    "    predictions = []\n",
    "    for im in images:\n",
    "        a = f(im[0], W1, W2, B1, B2)\n",
    "        predictions.append(np.argmax(a))\n",
    "    return predictions"
   ]
  },
  {
   "cell_type": "code",
   "execution_count": 12,
   "metadata": {},
   "outputs": [
    {
     "data": {
      "text/plain": [
       "[7, 2, 1, 0, 4, 1, 4, 9, 2, 9]"
      ]
     },
     "execution_count": 12,
     "metadata": {},
     "output_type": "execute_result"
    }
   ],
   "source": [
    "predict(test_data[0:10],W1,W2,B1,B2)"
   ]
  },
  {
   "cell_type": "code",
   "execution_count": 13,
   "metadata": {
    "scrolled": true
   },
   "outputs": [
    {
     "data": {
      "image/png": "[encoded data removed]",
      "text/plain": [
       "<Figure size 432x288 with 10 Axes>"
      ]
     },
     "metadata": {},
     "output_type": "display_data"
    }
   ],
   "source": [
    "plot_images(test_data[0:10])"
   ]
  },
  {
   "cell_type": "code",
   "execution_count": null,
   "metadata": {},
   "outputs": [],
   "source": []
  }
 ],
 "metadata": {
  "kernelspec": {
   "display_name": "Python 3",
   "language": "python",
   "name": "python3"
  },
  "language_info": {
   "codemirror_mode": {
    "name": "ipython",
    "version": 3
   },
   "file_extension": ".py",
   "mimetype": "text/x-python",
   "name": "python",
   "nbconvert_exporter": "python",
   "pygments_lexer": "ipython3",
   "version": "3.6.4"
  }
 },
 "nbformat": 4,
 "nbformat_minor": 2
}
